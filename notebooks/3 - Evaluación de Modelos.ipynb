{
 "cells": [
  {
   "cell_type": "code",
   "execution_count": 5,
   "id": "0e96292f",
   "metadata": {},
   "outputs": [],
   "source": [
    "import pandas as pd\n",
    "import joblib \n",
    "from sklearn.model_selection import train_test_split"
   ]
  },
  {
   "cell_type": "code",
   "execution_count": 6,
   "id": "6ef333f6",
   "metadata": {},
   "outputs": [],
   "source": [
    "transformer = joblib.load(\"../modelos/pipelines/pipeline1.joblib\")"
   ]
  },
  {
   "cell_type": "code",
   "execution_count": 7,
   "id": "f32b27b5",
   "metadata": {},
   "outputs": [
    {
     "name": "stderr",
     "output_type": "stream",
     "text": [
      "c:\\godoy\\maestria inteligencia artificial\\sem2\\electiva 2 programación\\ex1\\env\\lib\\site-packages\\sklearn\\base.py:450: UserWarning: X does not have valid feature names, but SimpleImputer was fitted with feature names\n",
      "  warnings.warn(\n",
      "c:\\godoy\\maestria inteligencia artificial\\sem2\\electiva 2 programación\\ex1\\env\\lib\\site-packages\\sklearn\\base.py:450: UserWarning: X does not have valid feature names, but SimpleImputer was fitted with feature names\n",
      "  warnings.warn(\n"
     ]
    },
    {
     "data": {
      "text/plain": [
       "array([[0.48214286, 0.09629141, 0.        , 1.        , 0.        ,\n",
       "        1.        , 0.        ]])"
      ]
     },
     "execution_count": 7,
     "metadata": {},
     "output_type": "execute_result"
    }
   ],
   "source": [
    "transformer.transform([['male', 46, 2000, 'own']])"
   ]
  },
  {
   "cell_type": "code",
   "execution_count": 12,
   "id": "74b13cb1",
   "metadata": {},
   "outputs": [],
   "source": [
    "df = pd.read_csv(\"../data/german_credit_data.csv\")"
   ]
  },
  {
   "cell_type": "code",
   "execution_count": 13,
   "id": "50ca57f3",
   "metadata": {},
   "outputs": [],
   "source": [
    "train, test = train_test_split(df, test_size=0.3, random_state=42)"
   ]
  },
  {
   "cell_type": "code",
   "execution_count": 21,
   "id": "e87710a9",
   "metadata": {},
   "outputs": [],
   "source": [
    "features = ['Sex', 'Age', 'Credit amount', 'Housing']\n",
    "y_train = (train['Risk']=='bad').astype('int')\n",
    "X_train = train[features]\n",
    "X_train_transformed = transformer.transform(X_train)"
   ]
  },
  {
   "cell_type": "code",
   "execution_count": 22,
   "id": "6158dca7",
   "metadata": {},
   "outputs": [],
   "source": [
    "from sklearn.linear_model import LogisticRegression\n",
    "from sklearn.model_selection import cross_validate"
   ]
  },
  {
   "cell_type": "code",
   "execution_count": 29,
   "id": "227bb21d",
   "metadata": {},
   "outputs": [],
   "source": [
    "results= cross_validate(LogisticRegression(), X_train_transformed , y_train, cv=5, return_train_score=True, scoring=[\"accuracy\"])"
   ]
  },
  {
   "cell_type": "code",
   "execution_count": 30,
   "id": "bcb198a6",
   "metadata": {},
   "outputs": [
    {
     "data": {
      "text/plain": [
       "LogisticRegression()"
      ]
     },
     "execution_count": 30,
     "metadata": {},
     "output_type": "execute_result"
    }
   ],
   "source": [
    "clf = LogisticRegression()\n",
    "clf.fit(X_train_transformed , y_train)"
   ]
  },
  {
   "cell_type": "code",
   "execution_count": 31,
   "id": "0b8d579a",
   "metadata": {},
   "outputs": [
    {
     "name": "stderr",
     "output_type": "stream",
     "text": [
      "c:\\godoy\\maestria inteligencia artificial\\sem2\\electiva 2 programación\\ex1\\env\\lib\\site-packages\\sklearn\\base.py:450: UserWarning: X does not have valid feature names, but SimpleImputer was fitted with feature names\n",
      "  warnings.warn(\n",
      "c:\\godoy\\maestria inteligencia artificial\\sem2\\electiva 2 programación\\ex1\\env\\lib\\site-packages\\sklearn\\base.py:450: UserWarning: X does not have valid feature names, but SimpleImputer was fitted with feature names\n",
      "  warnings.warn(\n"
     ]
    },
    {
     "data": {
      "text/plain": [
       "array([0])"
      ]
     },
     "execution_count": 31,
     "metadata": {},
     "output_type": "execute_result"
    }
   ],
   "source": [
    "clf.predict(transformer.transform([['male', 46, 2000, 'own']]))"
   ]
  },
  {
   "cell_type": "code",
   "execution_count": 32,
   "id": "41235207",
   "metadata": {},
   "outputs": [
    {
     "name": "stderr",
     "output_type": "stream",
     "text": [
      "c:\\godoy\\maestria inteligencia artificial\\sem2\\electiva 2 programación\\ex1\\env\\lib\\site-packages\\sklearn\\base.py:450: UserWarning: X does not have valid feature names, but SimpleImputer was fitted with feature names\n",
      "  warnings.warn(\n",
      "c:\\godoy\\maestria inteligencia artificial\\sem2\\electiva 2 programación\\ex1\\env\\lib\\site-packages\\sklearn\\base.py:450: UserWarning: X does not have valid feature names, but SimpleImputer was fitted with feature names\n",
      "  warnings.warn(\n"
     ]
    },
    {
     "data": {
      "text/plain": [
       "array([[0.83685017, 0.16314983]])"
      ]
     },
     "execution_count": 32,
     "metadata": {},
     "output_type": "execute_result"
    }
   ],
   "source": [
    "clf.predict_proba(transformer.transform([['male', 46, 2000, 'own']]))"
   ]
  },
  {
   "cell_type": "code",
   "execution_count": 36,
   "id": "4c8e2365",
   "metadata": {},
   "outputs": [
    {
     "name": "stdout",
     "output_type": "stream",
     "text": [
      "0.7014285714285714 + - 0.014568627181693668\n"
     ]
    }
   ],
   "source": [
    "print(\"{} + - {}\". format(results['test_accuracy'].mean(),\n",
    "                         results['test_accuracy'].std()))"
   ]
  },
  {
   "cell_type": "code",
   "execution_count": 37,
   "id": "a3a930d8",
   "metadata": {},
   "outputs": [],
   "source": [
    "from sklearn.neighbors import KNeighborsClassifier"
   ]
  },
  {
   "cell_type": "code",
   "execution_count": 50,
   "id": "a34f057a",
   "metadata": {},
   "outputs": [
    {
     "name": "stdout",
     "output_type": "stream",
     "text": [
      "0.6928571428571428 + - 0.011952286093343947\n"
     ]
    }
   ],
   "source": [
    "results = cross_validate(KNeighborsClassifier(n_neighbors=20), X_train_transformed , y_train, cv=5, return_train_score=True, scoring=[\"accuracy\"])\n",
    "\n",
    "print(\"{} + - {}\". format(results['test_accuracy'].mean(),\n",
    "                         results['test_accuracy'].std()))"
   ]
  },
  {
   "cell_type": "code",
   "execution_count": 51,
   "id": "31e09dc1",
   "metadata": {},
   "outputs": [],
   "source": [
    "from sklearn.tree import DecisionTreeClassifier"
   ]
  },
  {
   "cell_type": "code",
   "execution_count": 62,
   "id": "4b0aea08",
   "metadata": {},
   "outputs": [
    {
     "name": "stdout",
     "output_type": "stream",
     "text": [
      "train:  0.7278571428571429 + - 0.005486532677049025\n",
      "validation:  0.7014285714285714 + - 0.016536909861128886\n"
     ]
    }
   ],
   "source": [
    "results = cross_validate(DecisionTreeClassifier(max_depth=3), X_train_transformed , y_train, cv=5, return_train_score=True, scoring=[\"accuracy\"])\n",
    "\n",
    "print(\"train: \", \"{} + - {}\". format(results['train_accuracy'].mean(),\n",
    "                         results['train_accuracy'].std()))\n",
    "print(\"validation: \", \"{} + - {}\". format(results['test_accuracy'].mean(),\n",
    "                         results['test_accuracy'].std()))"
   ]
  },
  {
   "cell_type": "code",
   "execution_count": 63,
   "id": "81d1e525",
   "metadata": {},
   "outputs": [],
   "source": [
    "from sklearn.ensemble import RandomForestClassifier"
   ]
  },
  {
   "cell_type": "code",
   "execution_count": 66,
   "id": "5c5e65b5",
   "metadata": {},
   "outputs": [
    {
     "name": "stdout",
     "output_type": "stream",
     "text": [
      "train:  0.7235714285714285 + - 0.0067196027579381114\n",
      "validation:  0.7028571428571428 + - 0.012453996981544785\n"
     ]
    }
   ],
   "source": [
    "results = cross_validate(RandomForestClassifier(n_estimators=100, max_depth=3), X_train_transformed , y_train, cv=5, return_train_score=True, scoring=[\"accuracy\"])\n",
    "\n",
    "print(\"train: \", \"{} + - {}\". format(results['train_accuracy'].mean(),\n",
    "                         results['train_accuracy'].std()))\n",
    "print(\"validation: \", \"{} + - {}\". format(results['test_accuracy'].mean(),\n",
    "                         results['test_accuracy'].std()))"
   ]
  },
  {
   "cell_type": "code",
   "execution_count": 68,
   "id": "befa6429",
   "metadata": {},
   "outputs": [],
   "source": [
    "from sklearn.svm import SVC"
   ]
  },
  {
   "cell_type": "code",
   "execution_count": 70,
   "id": "06226116",
   "metadata": {},
   "outputs": [
    {
     "name": "stdout",
     "output_type": "stream",
     "text": [
      "train:  0.7014285714285714 + - 0.0007142857142857119\n",
      "validation:  0.7014285714285714 + - 0.002857142857142891\n"
     ]
    }
   ],
   "source": [
    "results = cross_validate(SVC(kernel='linear', C=0.5), X_train_transformed , y_train, cv=5, return_train_score=True, scoring=[\"accuracy\"])\n",
    "\n",
    "print(\"train: \", \"{} + - {}\". format(results['train_accuracy'].mean(),\n",
    "                         results['train_accuracy'].std()))\n",
    "print(\"validation: \", \"{} + - {}\". format(results['test_accuracy'].mean(),\n",
    "                         results['test_accuracy'].std()))"
   ]
  },
  {
   "cell_type": "code",
   "execution_count": null,
   "id": "60907ed5",
   "metadata": {},
   "outputs": [],
   "source": []
  }
 ],
 "metadata": {
  "kernelspec": {
   "display_name": "Python 3 (ipykernel)",
   "language": "python",
   "name": "python3"
  },
  "language_info": {
   "codemirror_mode": {
    "name": "ipython",
    "version": 3
   },
   "file_extension": ".py",
   "mimetype": "text/x-python",
   "name": "python",
   "nbconvert_exporter": "python",
   "pygments_lexer": "ipython3",
   "version": "3.9.6"
  }
 },
 "nbformat": 4,
 "nbformat_minor": 5
}
