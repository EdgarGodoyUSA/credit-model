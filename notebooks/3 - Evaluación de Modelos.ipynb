{
 "cells": [
  {
   "cell_type": "code",
   "execution_count": 1,
   "id": "2e45b75c",
   "metadata": {},
   "outputs": [],
   "source": [
    "import pandas as pd\n",
    "import joblib \n",
    "from sklearn.model_selection import train_test_split"
   ]
  },
  {
   "cell_type": "code",
   "execution_count": 2,
   "id": "254a9237",
   "metadata": {},
   "outputs": [],
   "source": [
    "transformer = joblib.load(\"../modelos/pipelines/pipeline1.joblib\")"
   ]
  },
  {
   "cell_type": "code",
   "execution_count": 3,
   "id": "17b2eb88",
   "metadata": {},
   "outputs": [
    {
     "name": "stderr",
     "output_type": "stream",
     "text": [
      "c:\\godoy\\maestria inteligencia artificial\\sem2\\electiva 2 programación\\ex1\\env\\lib\\site-packages\\sklearn\\base.py:450: UserWarning: X does not have valid feature names, but SimpleImputer was fitted with feature names\n",
      "  warnings.warn(\n",
      "c:\\godoy\\maestria inteligencia artificial\\sem2\\electiva 2 programación\\ex1\\env\\lib\\site-packages\\sklearn\\base.py:450: UserWarning: X does not have valid feature names, but SimpleImputer was fitted with feature names\n",
      "  warnings.warn(\n"
     ]
    },
    {
     "data": {
      "text/plain": [
       "array([[0.48214286, 0.09629141, 0.        , 1.        , 0.        ,\n",
       "        1.        , 0.        ]])"
      ]
     },
     "execution_count": 3,
     "metadata": {},
     "output_type": "execute_result"
    }
   ],
   "source": [
    "transformer.transform([['male', 46, 2000, 'own']])"
   ]
  },
  {
   "cell_type": "code",
   "execution_count": 4,
   "id": "73bfcba8",
   "metadata": {},
   "outputs": [],
   "source": [
    "df = pd.read_csv(\"../data/german_credit_data.csv\")"
   ]
  },
  {
   "cell_type": "code",
   "execution_count": 5,
   "id": "418ecaf7",
   "metadata": {},
   "outputs": [],
   "source": [
    "train, test = train_test_split(df, test_size=0.3, random_state=42)"
   ]
  },
  {
   "cell_type": "code",
   "execution_count": 6,
   "id": "24b48503",
   "metadata": {},
   "outputs": [],
   "source": [
    "features = ['Sex', 'Age', 'Credit amount', 'Housing']\n",
    "y_train = (train['Risk']=='bad').astype('int')\n",
    "X_train = train[features]\n",
    "X_train_transformed = transformer.transform(X_train)"
   ]
  },
  {
   "cell_type": "code",
   "execution_count": 7,
   "id": "f143c82b",
   "metadata": {},
   "outputs": [],
   "source": [
    "from sklearn.linear_model import LogisticRegression\n",
    "from sklearn.model_selection import cross_validate"
   ]
  },
  {
   "cell_type": "code",
   "execution_count": 8,
   "id": "7a94b4f0",
   "metadata": {},
   "outputs": [],
   "source": [
    "results= cross_validate(LogisticRegression(), X_train_transformed , y_train, cv=5, return_train_score=True, scoring=[\"accuracy\"])"
   ]
  },
  {
   "cell_type": "code",
   "execution_count": 9,
   "id": "05c1684c",
   "metadata": {},
   "outputs": [
    {
     "data": {
      "text/plain": [
       "LogisticRegression()"
      ]
     },
     "execution_count": 9,
     "metadata": {},
     "output_type": "execute_result"
    }
   ],
   "source": [
    "clf = LogisticRegression()\n",
    "clf.fit(X_train_transformed , y_train)"
   ]
  },
  {
   "cell_type": "code",
   "execution_count": 10,
   "id": "908ef862",
   "metadata": {},
   "outputs": [
    {
     "name": "stderr",
     "output_type": "stream",
     "text": [
      "c:\\godoy\\maestria inteligencia artificial\\sem2\\electiva 2 programación\\ex1\\env\\lib\\site-packages\\sklearn\\base.py:450: UserWarning: X does not have valid feature names, but SimpleImputer was fitted with feature names\n",
      "  warnings.warn(\n",
      "c:\\godoy\\maestria inteligencia artificial\\sem2\\electiva 2 programación\\ex1\\env\\lib\\site-packages\\sklearn\\base.py:450: UserWarning: X does not have valid feature names, but SimpleImputer was fitted with feature names\n",
      "  warnings.warn(\n"
     ]
    },
    {
     "data": {
      "text/plain": [
       "array([0])"
      ]
     },
     "execution_count": 10,
     "metadata": {},
     "output_type": "execute_result"
    }
   ],
   "source": [
    "clf.predict(transformer.transform([['male', 46, 2000, 'own']]))"
   ]
  },
  {
   "cell_type": "code",
   "execution_count": 11,
   "id": "c0ac9655",
   "metadata": {},
   "outputs": [
    {
     "name": "stderr",
     "output_type": "stream",
     "text": [
      "c:\\godoy\\maestria inteligencia artificial\\sem2\\electiva 2 programación\\ex1\\env\\lib\\site-packages\\sklearn\\base.py:450: UserWarning: X does not have valid feature names, but SimpleImputer was fitted with feature names\n",
      "  warnings.warn(\n",
      "c:\\godoy\\maestria inteligencia artificial\\sem2\\electiva 2 programación\\ex1\\env\\lib\\site-packages\\sklearn\\base.py:450: UserWarning: X does not have valid feature names, but SimpleImputer was fitted with feature names\n",
      "  warnings.warn(\n"
     ]
    },
    {
     "data": {
      "text/plain": [
       "array([[0.83685017, 0.16314983]])"
      ]
     },
     "execution_count": 11,
     "metadata": {},
     "output_type": "execute_result"
    }
   ],
   "source": [
    "clf.predict_proba(transformer.transform([['male', 46, 2000, 'own']]))"
   ]
  },
  {
   "cell_type": "code",
   "execution_count": 12,
   "id": "eefa4f62",
   "metadata": {},
   "outputs": [
    {
     "name": "stdout",
     "output_type": "stream",
     "text": [
      "0.7014285714285714 + - 0.014568627181693668\n"
     ]
    }
   ],
   "source": [
    "print(\"{} + - {}\". format(results['test_accuracy'].mean(),\n",
    "                         results['test_accuracy'].std()))"
   ]
  },
  {
   "cell_type": "code",
   "execution_count": 13,
   "id": "060649c7",
   "metadata": {},
   "outputs": [],
   "source": [
    "from sklearn.neighbors import KNeighborsClassifier"
   ]
  },
  {
   "cell_type": "code",
   "execution_count": 14,
   "id": "7d7f5e56",
   "metadata": {},
   "outputs": [
    {
     "name": "stdout",
     "output_type": "stream",
     "text": [
      "0.6928571428571428 + - 0.011952286093343947\n"
     ]
    }
   ],
   "source": [
    "results = cross_validate(KNeighborsClassifier(n_neighbors=20), X_train_transformed , y_train, cv=5, return_train_score=True, scoring=[\"accuracy\"])\n",
    "\n",
    "print(\"{} + - {}\". format(results['test_accuracy'].mean(),\n",
    "                         results['test_accuracy'].std()))"
   ]
  },
  {
   "cell_type": "code",
   "execution_count": 15,
   "id": "2b5b630e",
   "metadata": {},
   "outputs": [],
   "source": [
    "from sklearn.tree import DecisionTreeClassifier"
   ]
  },
  {
   "cell_type": "code",
   "execution_count": 16,
   "id": "f2bcdd16",
   "metadata": {},
   "outputs": [
    {
     "name": "stdout",
     "output_type": "stream",
     "text": [
      "train:  0.7278571428571429 + - 0.005486532677049025\n",
      "validation:  0.7014285714285714 + - 0.016536909861128886\n"
     ]
    }
   ],
   "source": [
    "results = cross_validate(DecisionTreeClassifier(max_depth=3), X_train_transformed , y_train, cv=5, return_train_score=True, scoring=[\"accuracy\"])\n",
    "\n",
    "print(\"train: \", \"{} + - {}\". format(results['train_accuracy'].mean(),\n",
    "                         results['train_accuracy'].std()))\n",
    "print(\"validation: \", \"{} + - {}\". format(results['test_accuracy'].mean(),\n",
    "                         results['test_accuracy'].std()))"
   ]
  },
  {
   "cell_type": "code",
   "execution_count": 17,
   "id": "af4eaa62",
   "metadata": {},
   "outputs": [],
   "source": [
    "from sklearn.ensemble import RandomForestClassifier"
   ]
  },
  {
   "cell_type": "code",
   "execution_count": 18,
   "id": "d656a738",
   "metadata": {},
   "outputs": [
    {
     "name": "stdout",
     "output_type": "stream",
     "text": [
      "train:  0.7210714285714286 + - 0.004844521416518032\n",
      "validation:  0.7028571428571428 + - 0.010690449676496985\n"
     ]
    }
   ],
   "source": [
    "results = cross_validate(RandomForestClassifier(n_estimators=100, max_depth=3), X_train_transformed , y_train, cv=5, return_train_score=True, scoring=[\"accuracy\"])\n",
    "\n",
    "print(\"train: \", \"{} + - {}\". format(results['train_accuracy'].mean(),\n",
    "                         results['train_accuracy'].std()))\n",
    "print(\"validation: \", \"{} + - {}\". format(results['test_accuracy'].mean(),\n",
    "                         results['test_accuracy'].std()))"
   ]
  },
  {
   "cell_type": "code",
   "execution_count": 19,
   "id": "f316f58c",
   "metadata": {},
   "outputs": [],
   "source": [
    "from sklearn.svm import SVC"
   ]
  },
  {
   "cell_type": "code",
   "execution_count": 20,
   "id": "2dcb5aaf",
   "metadata": {},
   "outputs": [
    {
     "name": "stdout",
     "output_type": "stream",
     "text": [
      "train:  0.7014285714285714 + - 0.0007142857142857119\n",
      "validation:  0.7014285714285714 + - 0.002857142857142891\n"
     ]
    }
   ],
   "source": [
    "results = cross_validate(SVC(kernel='linear', C=0.5), X_train_transformed , y_train, cv=5, return_train_score=True, scoring=[\"accuracy\"])\n",
    "\n",
    "print(\"train: \", \"{} + - {}\". format(results['train_accuracy'].mean(),\n",
    "                         results['train_accuracy'].std()))\n",
    "print(\"validation: \", \"{} + - {}\". format(results['test_accuracy'].mean(),\n",
    "                         results['test_accuracy'].std()))"
   ]
  },
  {
   "cell_type": "code",
   "execution_count": 24,
   "id": "6360c2dc",
   "metadata": {},
   "outputs": [],
   "source": [
    "model = RandomForestClassifier()"
   ]
  },
  {
   "cell_type": "code",
   "execution_count": 25,
   "id": "efc50437",
   "metadata": {},
   "outputs": [
    {
     "data": {
      "text/plain": [
       "RandomForestClassifier()"
      ]
     },
     "execution_count": 25,
     "metadata": {},
     "output_type": "execute_result"
    }
   ],
   "source": [
    "model.fit(X_train_transformed, y_train)"
   ]
  },
  {
   "cell_type": "code",
   "execution_count": 26,
   "id": "5d91b453",
   "metadata": {},
   "outputs": [],
   "source": [
    "import joblib"
   ]
  },
  {
   "cell_type": "code",
   "execution_count": 27,
   "id": "562dd480",
   "metadata": {},
   "outputs": [
    {
     "data": {
      "text/plain": [
       "['../Modelos/estimators/model01.joblib']"
      ]
     },
     "execution_count": 27,
     "metadata": {},
     "output_type": "execute_result"
    }
   ],
   "source": [
    "joblib.dump(model, \"../Modelos/estimators/model01.joblib\")"
   ]
  },
  {
   "cell_type": "code",
   "execution_count": null,
   "id": "632509b5",
   "metadata": {},
   "outputs": [],
   "source": []
  }
 ],
 "metadata": {
  "kernelspec": {
   "display_name": "Python 3 (ipykernel)",
   "language": "python",
   "name": "python3"
  },
  "language_info": {
   "codemirror_mode": {
    "name": "ipython",
    "version": 3
   },
   "file_extension": ".py",
   "mimetype": "text/x-python",
   "name": "python",
   "nbconvert_exporter": "python",
   "pygments_lexer": "ipython3",
   "version": "3.9.6"
  }
 },
 "nbformat": 4,
 "nbformat_minor": 5
}
